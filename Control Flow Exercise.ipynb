{
 "cells": [
  {
   "cell_type": "markdown",
   "id": "e6e5ba8e",
   "metadata": {},
   "source": [
    "Guess a number between 1 to 9 given by the user"
   ]
  },
  {
   "cell_type": "code",
   "execution_count": 12,
   "id": "bc3a69ed",
   "metadata": {},
   "outputs": [
    {
     "name": "stdout",
     "output_type": "stream",
     "text": [
      "Guess a number between 1 to 9 until you get it right: 1\n",
      "Guess a number between 1 to 9 until you get it right: 2\n",
      "You guessed correct!\n"
     ]
    }
   ],
   "source": [
    "import random\n",
    "guess= random.randint(1,9)\n",
    "while True:\n",
    "    user = int(input('Guess a number between 1 to 9 until you get it right: '))\n",
    "    if guess==user:\n",
    "        print(\"You guessed correct!\")\n",
    "        break\n",
    "    else:\n",
    "        continue"
   ]
  },
  {
   "cell_type": "markdown",
   "id": "7d1569ab",
   "metadata": {},
   "source": [
    "Check the validity of password input by the user.\n",
    "\n",
    "Validation:\n",
    "At least 1 letter between [a-z] and 1 letter between [A-Z].\n",
    "At least 1 number between [0-9].\n",
    "At least 1 character from [$#@].\n",
    "Minimum length 6 characters.\n",
    "Maximum length 16 characters."
   ]
  },
  {
   "cell_type": "code",
   "execution_count": 16,
   "id": "90c0e7ce",
   "metadata": {},
   "outputs": [
    {
     "name": "stdout",
     "output_type": "stream",
     "text": [
      "Input your passwordaA9#aA9\n",
      "Valid Password\n"
     ]
    }
   ],
   "source": [
    "import re\n",
    "password = input(\"Input your password\")\n",
    "x = True\n",
    "while x:  \n",
    "    if (len(password)<6 or len(password)>12):\n",
    "        break\n",
    "    elif not re.search(\"[a-z]\",password):\n",
    "        break\n",
    "    elif not re.search(\"[0-9]\",password):\n",
    "        break\n",
    "    elif not re.search(\"[A-Z]\",password):\n",
    "        break\n",
    "    elif not re.search(\"[$#@]\",password):\n",
    "        break\n",
    "    elif re.search(\"\\s\",password):\n",
    "        break\n",
    "    else:\n",
    "        print(\"Valid Password\")\n",
    "        x=False\n",
    "        break\n",
    "\n",
    "if x:\n",
    "    print(\"Not a Valid Password\")"
   ]
  },
  {
   "cell_type": "markdown",
   "id": "07802f78",
   "metadata": {},
   "source": [
    "Get input of the age of 3 people by user and determine oldest and youngest among them"
   ]
  },
  {
   "cell_type": "code",
   "execution_count": 21,
   "id": "a23cd21b",
   "metadata": {},
   "outputs": [
    {
     "name": "stdout",
     "output_type": "stream",
     "text": [
      "Enter First Person's Age : 21\n",
      "Enter Second Person's Age : 35\n",
      "Enter Third Person's Age : 66\n",
      "\n",
      "The Oldest of All Three People is  66\n",
      "The Youngest of All Three People is  21\n"
     ]
    }
   ],
   "source": [
    "number1 = int(input(\"Enter First Person's Age : \"))\n",
    "number2 = int(input(\"Enter Second Person's Age : \"))\n",
    "number3 = int(input(\"Enter Third Person's Age : \"))\n",
    "\n",
    "print()\n",
    "if (number1 > number2) & (number1 > number3):\n",
    "    print('The Oldest of All Three People is ',number1)\n",
    "    if number2 < number3:\n",
    "        print('The Youngest of All Three People is ',number2)\n",
    "    else:\n",
    "        print('The Youngest of All Three People is Person 3 ',number3)\n",
    "elif (number2 > number1) & (number2 > number3):\n",
    "    print('The Oldest of All Three People is Person 2 ',number2)\n",
    "    if number1 < number3:\n",
    "        print('The Youngest of All Three People is ',number1)\n",
    "    else:\n",
    "        print('The Youngest of All Three People is ',number3)\n",
    "else:\n",
    "     print('The Oldest of All Three People is ',number3)\n",
    "     if number1 < number2:\n",
    "         print('The Youngest of All Three People is ',number1)\n",
    "     else:\n",
    "         print('The Youngest of All Three People is ',number2)"
   ]
  },
  {
   "cell_type": "markdown",
   "id": "f5dd6970",
   "metadata": {},
   "source": [
    "A student will not be allowed to sit in exam if his/her attendance is less than 75%.\n",
    "\n",
    "Take following input from user\n",
    "\n",
    "Number of classes held\n",
    "Number of classes attended.\n",
    "And print percentage of class attended\n",
    "\n",
    "Is student is allowed to sit in exam or not?"
   ]
  },
  {
   "cell_type": "code",
   "execution_count": 28,
   "id": "bcf5d9c8",
   "metadata": {},
   "outputs": [
    {
     "name": "stdout",
     "output_type": "stream",
     "text": [
      "How many classes are held: 10\n",
      "How many classes have you attended: 2\n",
      "You cannot take part in the exam\n"
     ]
    }
   ],
   "source": [
    "classes = int(input('How many classes are held: '))\n",
    "attend = int(input('How many classes have you attended: '))\n",
    "\n",
    "if attend/classes >= 0.75:\n",
    "    print('You can take part in the exam')\n",
    "else:\n",
    "    print('You cannot take part in the exam')"
   ]
  },
  {
   "cell_type": "markdown",
   "id": "d6dea046",
   "metadata": {},
   "source": [
    "Get an integer N from the user and perform the following actions:\n",
    "\n",
    "if N is odd, print \"weird\"\n",
    "if N is even and in the inclusive range of 2 to 5, print \"Not Weird\"\n",
    "if N is even and in the inclusive range of 6 to 20, print \"Weird\"\n",
    "if N is even and greater than 20, print \"Not Weird\""
   ]
  },
  {
   "cell_type": "code",
   "execution_count": 36,
   "id": "2002c232",
   "metadata": {},
   "outputs": [
    {
     "name": "stdout",
     "output_type": "stream",
     "text": [
      "Input a Number to see if You Are Weird or Not Weird 22\n",
      "Not Weird\n"
     ]
    }
   ],
   "source": [
    "n = int(input('Input a Number to see if You Are Weird or Not Weird '))\n",
    "\n",
    "if n % 2:\n",
    "    print(\"Weird\")\n",
    "\n",
    "elif 2 <= n <= 5:\n",
    "    print(\"Not Weird\")\n",
    "\n",
    "elif 6 <= n <= 20:\n",
    "    print(\"Weird\")\n",
    "\n",
    "else:\n",
    "    print(\"Not Weird\")"
   ]
  },
  {
   "cell_type": "code",
   "execution_count": null,
   "id": "f31e7618",
   "metadata": {},
   "outputs": [],
   "source": []
  }
 ],
 "metadata": {
  "kernelspec": {
   "display_name": "Python 3 (ipykernel)",
   "language": "python",
   "name": "python3"
  },
  "language_info": {
   "codemirror_mode": {
    "name": "ipython",
    "version": 3
   },
   "file_extension": ".py",
   "mimetype": "text/x-python",
   "name": "python",
   "nbconvert_exporter": "python",
   "pygments_lexer": "ipython3",
   "version": "3.9.7"
  }
 },
 "nbformat": 4,
 "nbformat_minor": 5
}
