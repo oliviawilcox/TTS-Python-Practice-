{
 "cells": [
  {
   "cell_type": "markdown",
   "id": "48626372",
   "metadata": {},
   "source": [
    "### Exercise 1\n",
    "\n",
    "We add a Leap Day on February 29, almost every four years. The leap day is an extra, or intercalary day and we add it to the shortest month of the year, February.\n",
    "\n",
    "In the Gregorian calendar three criteria must be taken into account to identify leap years:\n",
    "- The year can be evenly divided by 4, is a leap year, unless:\n",
    "- The year can be evenly divided by 100, it is NOT a leap year, unless:\n",
    "- The year is also evenly divisible by 400. Then it is a leap year.\n",
    "This means that in the Gregorian calendar, the years 2000 and 2400 are leap years, while 1800, 1900, 2100, 2200, 2300 and 2500 are NOT leap years.\n",
    "\n",
    "#### Task\n",
    "\n",
    "You are given the year, and you have to write a function to check if the year is leap or not. Simply answer if TRUE or FALSE.\n",
    "Note that you have to complete the function and remaining code is given as template.\n",
    "#### Input Format\n",
    "Read y, the year that needs to be checked.\n",
    "#### Output Format\n",
    "Output is taken care of by the template. Your function must return a boolean value (True/False)"
   ]
  },
  {
   "cell_type": "code",
   "execution_count": 1,
   "id": "805fd9bb",
   "metadata": {},
   "outputs": [],
   "source": [
    "def isLeapYear(year):\n",
    "    if (year % 4 == 0) and (year % 400 == 0):\n",
    "        print('True')\n",
    "    elif (year % 100 != 0):\n",
    "        print('True')\n",
    "    else:\n",
    "        print('False')"
   ]
  },
  {
   "cell_type": "code",
   "execution_count": 2,
   "id": "8edf6bb9",
   "metadata": {},
   "outputs": [
    {
     "name": "stdout",
     "output_type": "stream",
     "text": [
      "True\n"
     ]
    }
   ],
   "source": [
    "isLeapYear(2020)"
   ]
  },
  {
   "cell_type": "markdown",
   "id": "ac7969f6",
   "metadata": {},
   "source": [
    "## Exercise 2\n",
    "\n",
    "### Exceptions\n",
    "\n",
    "Errors detected during execution are called exceptions.\n",
    "\n",
    "\n",
    "Examples:\n",
    "\n",
    "**ZeroDivisionError** <br>\n",
    "This error is raised when the second argument of a division or modulo operation is zero."
   ]
  },
  {
   "cell_type": "code",
   "execution_count": 19,
   "id": "84291fda",
   "metadata": {},
   "outputs": [
    {
     "name": "stdout",
     "output_type": "stream",
     "text": [
      "3\n",
      "%\n"
     ]
    },
    {
     "ename": "ValueError",
     "evalue": "invalid literal for int() with base 10: '%'",
     "output_type": "error",
     "traceback": [
      "\u001b[0;31m---------------------------------------------------------------------------\u001b[0m",
      "\u001b[0;31mValueError\u001b[0m                                Traceback (most recent call last)",
      "\u001b[0;32m/var/folders/w5/bcb690152p3b1fkv40jqhdfc0000gn/T/ipykernel_61008/1670976333.py\u001b[0m in \u001b[0;36m<module>\u001b[0;34m\u001b[0m\n\u001b[1;32m      1\u001b[0m \u001b[0ma\u001b[0m \u001b[0;34m=\u001b[0m \u001b[0mint\u001b[0m\u001b[0;34m(\u001b[0m\u001b[0minput\u001b[0m\u001b[0;34m(\u001b[0m\u001b[0;34m)\u001b[0m\u001b[0;34m)\u001b[0m\u001b[0;34m\u001b[0m\u001b[0;34m\u001b[0m\u001b[0m\n\u001b[0;32m----> 2\u001b[0;31m \u001b[0mb\u001b[0m \u001b[0;34m=\u001b[0m \u001b[0mint\u001b[0m\u001b[0;34m(\u001b[0m\u001b[0minput\u001b[0m\u001b[0;34m(\u001b[0m\u001b[0;34m)\u001b[0m\u001b[0;34m)\u001b[0m\u001b[0;34m\u001b[0m\u001b[0;34m\u001b[0m\u001b[0m\n\u001b[0m\u001b[1;32m      3\u001b[0m \u001b[0;32mtry\u001b[0m\u001b[0;34m:\u001b[0m\u001b[0;34m\u001b[0m\u001b[0;34m\u001b[0m\u001b[0m\n\u001b[1;32m      4\u001b[0m     \u001b[0ma\u001b[0m\u001b[0;34m/\u001b[0m\u001b[0mb\u001b[0m\u001b[0;34m\u001b[0m\u001b[0;34m\u001b[0m\u001b[0m\n\u001b[1;32m      5\u001b[0m \u001b[0;32mexcept\u001b[0m \u001b[0;34m(\u001b[0m\u001b[0mZeroDivisionError\u001b[0m\u001b[0;34m,\u001b[0m \u001b[0mValueError\u001b[0m\u001b[0;34m)\u001b[0m \u001b[0;32mas\u001b[0m \u001b[0merr\u001b[0m\u001b[0;34m:\u001b[0m\u001b[0;34m\u001b[0m\u001b[0;34m\u001b[0m\u001b[0m\n",
      "\u001b[0;31mValueError\u001b[0m: invalid literal for int() with base 10: '%'"
     ]
    }
   ],
   "source": [
    "a = int(input())\n",
    "b = int(input())\n",
    "try:\n",
    "    a/b\n",
    "except (ZeroDivisionError, ValueError) as err:\n",
    "    print(\"Error class is:  \", type(err))\n",
    "    print(\"Error message is:\", err)"
   ]
  },
  {
   "cell_type": "code",
   "execution_count": null,
   "id": "6bf5f1aa",
   "metadata": {},
   "outputs": [],
   "source": []
  },
  {
   "cell_type": "code",
   "execution_count": null,
   "id": "ae3135cd",
   "metadata": {},
   "outputs": [],
   "source": []
  }
 ],
 "metadata": {
  "kernelspec": {
   "display_name": "Python 3 (ipykernel)",
   "language": "python",
   "name": "python3"
  },
  "language_info": {
   "codemirror_mode": {
    "name": "ipython",
    "version": 3
   },
   "file_extension": ".py",
   "mimetype": "text/x-python",
   "name": "python",
   "nbconvert_exporter": "python",
   "pygments_lexer": "ipython3",
   "version": "3.9.7"
  }
 },
 "nbformat": 4,
 "nbformat_minor": 5
}
