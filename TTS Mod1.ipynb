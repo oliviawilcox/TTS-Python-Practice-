{
 "cells": [
  {
   "cell_type": "markdown",
   "id": "a7557816",
   "metadata": {},
   "source": [
    "1. Accept the user's first and last name and print them in reverse order with a space between them"
   ]
  },
  {
   "cell_type": "code",
   "execution_count": null,
   "id": "07379013",
   "metadata": {},
   "outputs": [],
   "source": [
    "# accept first name\n",
    "firstname = input(\"Please type first name \")\n",
    "# accept last name\n",
    "lastname = input(\"Please type last name \")\n",
    "# print in reverse\n",
    "print(lastname, firstname)"
   ]
  },
  {
   "cell_type": "markdown",
   "id": "cd1c3f93",
   "metadata": {},
   "source": [
    "2. Accept an integer (n) input from the user and compute the value of n+nn+nnn. For example if n=4 then n + nn + nnn = 4 + 44 + 444 = 492"
   ]
  },
  {
   "cell_type": "code",
   "execution_count": 10,
   "id": "5b6ee4e1",
   "metadata": {},
   "outputs": [
    {
     "name": "stdout",
     "output_type": "stream",
     "text": [
      "Input an integer4\n",
      "492\n"
     ]
    }
   ],
   "source": [
    "# input integer as string\n",
    "n = str(input(\"Input an integer\"))\n",
    "# create variables nn and nnn (also strings)\n",
    "nn = n + n\n",
    "nnn = nn + n\n",
    "\n",
    "# print the expression, changing the strings to integers\n",
    "print(int(n) + int(nn) + int(nnn))"
   ]
  },
  {
   "cell_type": "markdown",
   "id": "c7c6fb9a",
   "metadata": {},
   "source": [
    "3. Ask the user \"What country are you from?\" then print the following statement: \"I have heard that [input] is a beautiful country!\""
   ]
  },
  {
   "cell_type": "code",
   "execution_count": 17,
   "id": "a690d89a",
   "metadata": {},
   "outputs": [
    {
     "name": "stdout",
     "output_type": "stream",
     "text": [
      "What country are you from? the United States\n",
      "I have heard that the United States is a beautiful country!\n"
     ]
    }
   ],
   "source": [
    "# ask user question\n",
    "question = input(\"What country are you from? \")\n",
    "# print statement with user input\n",
    "print(\"I have heard that\", question, \"is a beautiful country!\")"
   ]
  },
  {
   "cell_type": "markdown",
   "id": "530e2f1d",
   "metadata": {},
   "source": [
    "4. What is the output of the following Python code\n",
    "\n",
    "x = 10\n",
    "y = 50\n",
    "if (x ** 2 > 100 and y < 100):\n",
    "    print(x, y)"
   ]
  },
  {
   "cell_type": "code",
   "execution_count": 21,
   "id": "23acdf90",
   "metadata": {},
   "outputs": [],
   "source": [
    "# define variables\n",
    "x = 10\n",
    "y = 50\n",
    "\n",
    "# create loop\n",
    "if x**2 > 100 and y < 100:\n",
    "    print(x,y)\n",
    "\n",
    "# no output is printed because the variables do not satisfy the condition"
   ]
  },
  {
   "cell_type": "markdown",
   "id": "4eedd44e",
   "metadata": {},
   "source": [
    "5. What is the output of the following addition (+) operator, and why does this code chunk execute this way?\n",
    "\n",
    "a = [10, 20]\n",
    "b = a\n",
    "b += [30, 40]\n",
    "print(a)\n",
    "print(b)"
   ]
  },
  {
   "cell_type": "code",
   "execution_count": 22,
   "id": "c93334fc",
   "metadata": {},
   "outputs": [
    {
     "name": "stdout",
     "output_type": "stream",
     "text": [
      "[10, 20, 30, 40]\n",
      "[10, 20, 30, 40]\n"
     ]
    }
   ],
   "source": [
    "# define variables\n",
    "a = [10,20]\n",
    "b = a \n",
    "b +=[30, 40]\n",
    "print(a)\n",
    "print(b)\n",
    "\n",
    "# += adds another value to the variables value and assigns the new variable the combined value, so in this chunk of code a and b are the same"
   ]
  },
  {
   "cell_type": "markdown",
   "id": "3e897448",
   "metadata": {},
   "source": [
    "6. What is the output of the following code and what arithmetic operators is being used here? print(2%6)"
   ]
  },
  {
   "cell_type": "code",
   "execution_count": 23,
   "id": "17a6bf80",
   "metadata": {},
   "outputs": [
    {
     "name": "stdout",
     "output_type": "stream",
     "text": [
      "2\n"
     ]
    }
   ],
   "source": [
    "print(2%6)\n",
    "\n",
    "# the % sign is a modulus, which represents the remainder after two integers are divided"
   ]
  },
  {
   "cell_type": "markdown",
   "id": "a00c9b8b",
   "metadata": {},
   "source": [
    "7. What is the output of the following code and what arithmetic operators are used here? print(2 * 3 ** 3 * 4)"
   ]
  },
  {
   "cell_type": "code",
   "execution_count": 24,
   "id": "5728568c",
   "metadata": {},
   "outputs": [
    {
     "name": "stdout",
     "output_type": "stream",
     "text": [
      "216\n"
     ]
    }
   ],
   "source": [
    "print(2 * 3 ** 3 * 4)\n",
    "\n",
    "# * is multiplication and ** is exponentiation"
   ]
  },
  {
   "cell_type": "markdown",
   "id": "b85bc75b",
   "metadata": {},
   "source": [
    "8. What is a text editor?"
   ]
  },
  {
   "cell_type": "markdown",
   "id": "5c9a32a1",
   "metadata": {},
   "source": [
    "A text editor is a program used to edit text file. I have a mac, so my text editor is the terminal"
   ]
  },
  {
   "cell_type": "markdown",
   "id": "79c5b199",
   "metadata": {},
   "source": [
    "9. What is python?"
   ]
  },
  {
   "cell_type": "markdown",
   "id": "173d1ce7",
   "metadata": {},
   "source": [
    "Python is a programming language that was originally created to teach students how to program, but is now commonly used programming language for beginners and experts. "
   ]
  },
  {
   "cell_type": "markdown",
   "id": "770d5a14",
   "metadata": {},
   "source": [
    "10. What is jupyter notebook, what type of python environment is it, and what alternatives are there to jupyter notebook?"
   ]
  },
  {
   "cell_type": "markdown",
   "id": "7c4d4758",
   "metadata": {},
   "source": [
    "Jupyter notebook is a web-based application where you can use Python and run code line by line, rather than running the entire script. Other alternatives include Visual Studio Code and Spyder. "
   ]
  }
 ],
 "metadata": {
  "kernelspec": {
   "display_name": "Python 3 (ipykernel)",
   "language": "python",
   "name": "python3"
  },
  "language_info": {
   "codemirror_mode": {
    "name": "ipython",
    "version": 3
   },
   "file_extension": ".py",
   "mimetype": "text/x-python",
   "name": "python",
   "nbconvert_exporter": "python",
   "pygments_lexer": "ipython3",
   "version": "3.9.7"
  }
 },
 "nbformat": 4,
 "nbformat_minor": 5
}
