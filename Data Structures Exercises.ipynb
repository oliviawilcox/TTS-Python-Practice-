{
 "cells": [
  {
   "cell_type": "markdown",
   "id": "821058f1",
   "metadata": {},
   "source": [
    "Exercise 1\n",
    "\n",
    "Write a function solve_quadratic, that returns both solutions of a generic quadratic as a pair (2-tuple) when the coefficients are given as parameters."
   ]
  },
  {
   "cell_type": "code",
   "execution_count": 70,
   "id": "27c646be",
   "metadata": {},
   "outputs": [],
   "source": [
    "import math\n",
    "def solve_quadratic(b, a, c):\n",
    "    return (-b +- math.sqrt(b**2 - 4*a*c))/ 2*a\n"
   ]
  },
  {
   "cell_type": "code",
   "execution_count": 71,
   "id": "8f38d73b",
   "metadata": {},
   "outputs": [
    {
     "name": "stdout",
     "output_type": "stream",
     "text": [
      "9.0\n"
     ]
    }
   ],
   "source": [
    "print(solve_quadratic(1, -3, 2))"
   ]
  },
  {
   "cell_type": "markdown",
   "id": "c3d9389d",
   "metadata": {},
   "source": [
    "Exercise 2\n",
    "\n",
    "Get a space-seperated list of integers from the user, create a tuple of those integers. Then compute and print the result of hash(tuple)."
   ]
  },
  {
   "cell_type": "code",
   "execution_count": 73,
   "id": "c2fe359a",
   "metadata": {},
   "outputs": [
    {
     "name": "stdout",
     "output_type": "stream",
     "text": [
      "input integers 2 3 4 5\n",
      "2362765157918712745\n"
     ]
    }
   ],
   "source": [
    "t = input('input integers')\n",
    "\n",
    "print(hash(t))"
   ]
  },
  {
   "cell_type": "markdown",
   "id": "1245b6ce",
   "metadata": {},
   "source": [
    "Exercise 3\n",
    "\n",
    "Take the following two lists. Create a third list by picking a odd-index elements from the first list and even-index elements from the second."
   ]
  },
  {
   "cell_type": "code",
   "execution_count": 74,
   "id": "4e70f3dc",
   "metadata": {},
   "outputs": [
    {
     "name": "stdout",
     "output_type": "stream",
     "text": [
      "[6, 9, 12, 15, 18, 21, 4, 8, 12, 16, 20, 24, 28]\n"
     ]
    }
   ],
   "source": [
    "listOne = [3, 6, 9, 12, 15, 18, 21]\n",
    "listTwo = [4, 8, 12, 16, 20, 24, 28]\n",
    "listThree = listOne[1::] + listTwo[0::]\n",
    "print(listThree)"
   ]
  },
  {
   "cell_type": "markdown",
   "id": "b33610fb",
   "metadata": {},
   "source": [
    "Exercise 4\n",
    "\n",
    "Take the following list. Slice it into three equal chunks and reverse each list."
   ]
  },
  {
   "cell_type": "code",
   "execution_count": 75,
   "id": "d5a72a21",
   "metadata": {},
   "outputs": [
    {
     "name": "stdout",
     "output_type": "stream",
     "text": [
      "[8, 45, 11]\n",
      "[12, 14, 23]\n",
      "[89, 45, 78]\n"
     ]
    }
   ],
   "source": [
    "sampleList = [11, 45, 8, 23, 14, 12, 78, 45, 89]\n",
    "chunk1 = sampleList[0:3]\n",
    "chunk1.reverse()\n",
    "chunk2 = sampleList[3:6]\n",
    "chunk2.reverse()\n",
    "chunk3 = sampleList[6:]\n",
    "chunk3.reverse()\n",
    "print(chunk1)\n",
    "print(chunk2)\n",
    "print(chunk3)"
   ]
  },
  {
   "cell_type": "markdown",
   "id": "596073bd",
   "metadata": {},
   "source": [
    "Exercise 5\n",
    "\n",
    "Iterate through a given list and check if a given element already exists in a dictionary as a key’s value. If not, delete it from the list."
   ]
  },
  {
   "cell_type": "code",
   "execution_count": 76,
   "id": "ff775bb5",
   "metadata": {},
   "outputs": [
    {
     "name": "stdout",
     "output_type": "stream",
     "text": [
      "[47, 76, 97]\n"
     ]
    }
   ],
   "source": [
    "rollNumber = [47, 64, 37, 76, 83, 95, 97]\n",
    "sampleDict ={'Zach':47, 'Emma':69, 'Kelly':76, 'Jason':97}\n",
    "\n",
    "rollNumber = [item for item in rollNumber if item in sampleDict.values()]\n",
    "print(rollNumber)"
   ]
  },
  {
   "cell_type": "code",
   "execution_count": null,
   "id": "35d09ba9",
   "metadata": {},
   "outputs": [],
   "source": []
  }
 ],
 "metadata": {
  "kernelspec": {
   "display_name": "Python 3 (ipykernel)",
   "language": "python",
   "name": "python3"
  },
  "language_info": {
   "codemirror_mode": {
    "name": "ipython",
    "version": 3
   },
   "file_extension": ".py",
   "mimetype": "text/x-python",
   "name": "python",
   "nbconvert_exporter": "python",
   "pygments_lexer": "ipython3",
   "version": "3.9.7"
  }
 },
 "nbformat": 4,
 "nbformat_minor": 5
}
